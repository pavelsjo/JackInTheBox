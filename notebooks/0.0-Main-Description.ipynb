{
 "cells": [
  {
   "cell_type": "markdown",
   "metadata": {},
   "source": [
    "<p style=\"font-family: Arial; font-size:3.75em;color:purple; font-style:bold\"><br>\n",
    "Main Description</p><br>"
   ]
  },
  {
   "cell_type": "markdown",
   "metadata": {},
   "source": [
    "## 0. Libraries"
   ]
  },
  {
   "cell_type": "code",
   "execution_count": 1,
   "metadata": {},
   "outputs": [],
   "source": [
    "#dataframes\n",
    "import pandas as pd\n",
    "#graficos\n",
    "import matplotlib.pyplot as plt \n",
    "import seaborn as sns"
   ]
  },
  {
   "cell_type": "markdown",
   "metadata": {},
   "source": [
    "## 1. Open Data Frame"
   ]
  },
  {
   "cell_type": "code",
   "execution_count": 2,
   "metadata": {},
   "outputs": [],
   "source": [
    "df = pd.read_csv(r'../data/box_data.csv', sep = ',')"
   ]
  },
  {
   "cell_type": "code",
   "execution_count": 3,
   "metadata": {},
   "outputs": [
    {
     "data": {
      "text/html": [
       "<div>\n",
       "<style scoped>\n",
       "    .dataframe tbody tr th:only-of-type {\n",
       "        vertical-align: middle;\n",
       "    }\n",
       "\n",
       "    .dataframe tbody tr th {\n",
       "        vertical-align: top;\n",
       "    }\n",
       "\n",
       "    .dataframe thead th {\n",
       "        text-align: right;\n",
       "    }\n",
       "</style>\n",
       "<table border=\"1\" class=\"dataframe\">\n",
       "  <thead>\n",
       "    <tr style=\"text-align: right;\">\n",
       "      <th></th>\n",
       "      <th>user_id</th>\n",
       "      <th>install_time</th>\n",
       "      <th>platform</th>\n",
       "      <th>country_region</th>\n",
       "      <th>city</th>\n",
       "      <th>gender</th>\n",
       "      <th>min_age_range</th>\n",
       "      <th>max_age_range</th>\n",
       "      <th>event_1</th>\n",
       "      <th>event_2</th>\n",
       "      <th>event_3</th>\n",
       "      <th>event_4</th>\n",
       "      <th>event_5</th>\n",
       "      <th>target_churn_indicator</th>\n",
       "    </tr>\n",
       "  </thead>\n",
       "  <tbody>\n",
       "    <tr>\n",
       "      <th>0</th>\n",
       "      <td>2ba6f357</td>\n",
       "      <td>2018-07-04 19:24:24</td>\n",
       "      <td>Android</td>\n",
       "      <td>Santa Cruz</td>\n",
       "      <td>Río Gallegos</td>\n",
       "      <td>male</td>\n",
       "      <td>13</td>\n",
       "      <td>17</td>\n",
       "      <td>1</td>\n",
       "      <td>2</td>\n",
       "      <td>0</td>\n",
       "      <td>1</td>\n",
       "      <td>1</td>\n",
       "      <td>0</td>\n",
       "    </tr>\n",
       "    <tr>\n",
       "      <th>1</th>\n",
       "      <td>3cb936c1</td>\n",
       "      <td>2018-06-30 13:41:29</td>\n",
       "      <td>Android</td>\n",
       "      <td>Corrientes</td>\n",
       "      <td>Corrientes</td>\n",
       "      <td>male</td>\n",
       "      <td>13</td>\n",
       "      <td>17</td>\n",
       "      <td>0</td>\n",
       "      <td>7</td>\n",
       "      <td>0</td>\n",
       "      <td>3</td>\n",
       "      <td>0</td>\n",
       "      <td>1</td>\n",
       "    </tr>\n",
       "    <tr>\n",
       "      <th>2</th>\n",
       "      <td>17d88bbc</td>\n",
       "      <td>2018-06-30 16:02:30</td>\n",
       "      <td>Android</td>\n",
       "      <td>Cordoba</td>\n",
       "      <td>Villa Carlos Paz</td>\n",
       "      <td>female</td>\n",
       "      <td>18</td>\n",
       "      <td>20</td>\n",
       "      <td>2</td>\n",
       "      <td>1</td>\n",
       "      <td>0</td>\n",
       "      <td>2</td>\n",
       "      <td>2</td>\n",
       "      <td>1</td>\n",
       "    </tr>\n",
       "  </tbody>\n",
       "</table>\n",
       "</div>"
      ],
      "text/plain": [
       "    user_id         install_time platform country_region              city  \\\n",
       "0  2ba6f357  2018-07-04 19:24:24  Android     Santa Cruz      Río Gallegos   \n",
       "1  3cb936c1  2018-06-30 13:41:29  Android     Corrientes        Corrientes   \n",
       "2  17d88bbc  2018-06-30 16:02:30  Android        Cordoba  Villa Carlos Paz   \n",
       "\n",
       "   gender  min_age_range  max_age_range  event_1  event_2  event_3  event_4  \\\n",
       "0    male             13             17        1        2        0        1   \n",
       "1    male             13             17        0        7        0        3   \n",
       "2  female             18             20        2        1        0        2   \n",
       "\n",
       "   event_5  target_churn_indicator  \n",
       "0        1                       0  \n",
       "1        0                       1  \n",
       "2        2                       1  "
      ]
     },
     "execution_count": 3,
     "metadata": {},
     "output_type": "execute_result"
    }
   ],
   "source": [
    "df.head(3) #the 3 first rows in our df"
   ]
  },
  {
   "cell_type": "markdown",
   "metadata": {},
   "source": [
    "### Basic exploration"
   ]
  },
  {
   "cell_type": "code",
   "execution_count": 4,
   "metadata": {},
   "outputs": [
    {
     "data": {
      "text/plain": [
       "(20000, 14)"
      ]
     },
     "execution_count": 4,
     "metadata": {},
     "output_type": "execute_result"
    }
   ],
   "source": [
    "df.shape"
   ]
  },
  {
   "cell_type": "code",
   "execution_count": 5,
   "metadata": {},
   "outputs": [
    {
     "data": {
      "text/plain": [
       "Index(['user_id', 'install_time', 'platform', 'country_region', 'city',\n",
       "       'gender', 'min_age_range', 'max_age_range', 'event_1', 'event_2',\n",
       "       'event_3', 'event_4', 'event_5', 'target_churn_indicator'],\n",
       "      dtype='object')"
      ]
     },
     "execution_count": 5,
     "metadata": {},
     "output_type": "execute_result"
    }
   ],
   "source": [
    "df.columns"
   ]
  },
  {
   "cell_type": "markdown",
   "metadata": {},
   "source": [
    "There are **14** columns and the last column represent the **class**."
   ]
  },
  {
   "cell_type": "markdown",
   "metadata": {},
   "source": [
    "<p style=\"font-family: Arial; font-size:3.75em;color:purple; font-style:bold\"><br>\n",
    "Data Cleaning</p><br>"
   ]
  },
  {
   "cell_type": "code",
   "execution_count": 6,
   "metadata": {},
   "outputs": [
    {
     "data": {
      "text/plain": [
       "Index(['user_id', 'install_time', 'platform', 'country_region', 'city',\n",
       "       'gender', 'min_age_range', 'max_age_range', 'event_1', 'event_2',\n",
       "       'event_3', 'event_4', 'event_5', 'target_churn_indicator'],\n",
       "      dtype='object')"
      ]
     },
     "execution_count": 6,
     "metadata": {},
     "output_type": "execute_result"
    }
   ],
   "source": [
    "df.columns"
   ]
  },
  {
   "cell_type": "markdown",
   "metadata": {
    "toc-hr-collapsed": true
   },
   "source": [
    "<h1 style=\"font-size:1.5em;color:#2467C0\"> A. Verification: </h1>"
   ]
  },
  {
   "cell_type": "markdown",
   "metadata": {},
   "source": [
    "### Null values"
   ]
  },
  {
   "cell_type": "code",
   "execution_count": 7,
   "metadata": {},
   "outputs": [
    {
     "data": {
      "text/plain": [
       "user_id                   False\n",
       "install_time              False\n",
       "platform                  False\n",
       "country_region             True\n",
       "city                       True\n",
       "gender                    False\n",
       "min_age_range             False\n",
       "max_age_range             False\n",
       "event_1                   False\n",
       "event_2                   False\n",
       "event_3                   False\n",
       "event_4                   False\n",
       "event_5                   False\n",
       "target_churn_indicator    False\n",
       "dtype: bool"
      ]
     },
     "execution_count": 7,
     "metadata": {},
     "output_type": "execute_result"
    }
   ],
   "source": [
    "df.isnull().any() #null values"
   ]
  },
  {
   "cell_type": "markdown",
   "metadata": {},
   "source": [
    "Exist null values in `country_region` and `city`"
   ]
  },
  {
   "cell_type": "markdown",
   "metadata": {},
   "source": [
    "### Duplicates"
   ]
  },
  {
   "cell_type": "code",
   "execution_count": 8,
   "metadata": {},
   "outputs": [
    {
     "name": "stdout",
     "output_type": "stream",
     "text": [
      "Total_rows:20000 \n",
      "Total_unique_id:18533\n"
     ]
    }
   ],
   "source": [
    "print('Total_rows:{} \\nTotal_unique_id:{}'.format(len(df),len(df['user_id'].unique())))"
   ]
  },
  {
   "cell_type": "code",
   "execution_count": 9,
   "metadata": {},
   "outputs": [
    {
     "name": "stdout",
     "output_type": "stream",
     "text": [
      "Exists 1467 duplicates ID\n"
     ]
    }
   ],
   "source": [
    "print('Exists {} duplicates ID'.format(len(df)-len(df['user_id'].unique())))"
   ]
  },
  {
   "cell_type": "markdown",
   "metadata": {},
   "source": [
    "### Categorical Values"
   ]
  },
  {
   "cell_type": "code",
   "execution_count": 10,
   "metadata": {},
   "outputs": [
    {
     "data": {
      "text/plain": [
       "Android    19512\n",
       "iOS          488\n",
       "Name: platform, dtype: int64"
      ]
     },
     "execution_count": 10,
     "metadata": {},
     "output_type": "execute_result"
    }
   ],
   "source": [
    "df['platform'].value_counts()"
   ]
  },
  {
   "cell_type": "markdown",
   "metadata": {},
   "source": [
    "**Android** is the most usual platform to play this game."
   ]
  },
  {
   "cell_type": "code",
   "execution_count": 11,
   "metadata": {},
   "outputs": [
    {
     "data": {
      "text/plain": [
       "female     10835\n",
       "male        8992\n",
       "unknown      173\n",
       "Name: gender, dtype: int64"
      ]
     },
     "execution_count": 11,
     "metadata": {},
     "output_type": "execute_result"
    }
   ],
   "source": [
    "df['gender'].value_counts()"
   ]
  },
  {
   "cell_type": "markdown",
   "metadata": {},
   "source": [
    "Exists **173** users with unknown gender"
   ]
  },
  {
   "cell_type": "code",
   "execution_count": 12,
   "metadata": {},
   "outputs": [
    {
     "data": {
      "text/plain": [
       "1    10814\n",
       "0     9186\n",
       "Name: target_churn_indicator, dtype: int64"
      ]
     },
     "execution_count": 12,
     "metadata": {},
     "output_type": "execute_result"
    }
   ],
   "source": [
    "df['target_churn_indicator'].value_counts()"
   ]
  },
  {
   "cell_type": "markdown",
   "metadata": {},
   "source": [
    "Great! we can see this is a boolean value."
   ]
  },
  {
   "cell_type": "markdown",
   "metadata": {},
   "source": [
    "#### Date"
   ]
  },
  {
   "cell_type": "code",
   "execution_count": 13,
   "metadata": {},
   "outputs": [],
   "source": [
    "df.index = pd.to_datetime(df['install_time'], format='%Y-%m-%d %H:%M:%S') #parsing the date format and indexing\n",
    "del df['install_time'] #del the duplicate feature"
   ]
  },
  {
   "cell_type": "code",
   "execution_count": 14,
   "metadata": {},
   "outputs": [
    {
     "name": "stdout",
     "output_type": "stream",
     "text": [
      "Period of study: 2018-06-30 00:00:36 - 2018-07-07 23:59:47\n"
     ]
    }
   ],
   "source": [
    "print('Period of study: {} - {}'.format(df.index.min(), df.index.max()))"
   ]
  },
  {
   "cell_type": "markdown",
   "metadata": {},
   "source": [
    "#### Age Range"
   ]
  },
  {
   "cell_type": "code",
   "execution_count": 15,
   "metadata": {},
   "outputs": [
    {
     "data": {
      "text/html": [
       "<div>\n",
       "<style scoped>\n",
       "    .dataframe tbody tr th:only-of-type {\n",
       "        vertical-align: middle;\n",
       "    }\n",
       "\n",
       "    .dataframe tbody tr th {\n",
       "        vertical-align: top;\n",
       "    }\n",
       "\n",
       "    .dataframe thead th {\n",
       "        text-align: right;\n",
       "    }\n",
       "</style>\n",
       "<table border=\"1\" class=\"dataframe\">\n",
       "  <thead>\n",
       "    <tr style=\"text-align: right;\">\n",
       "      <th></th>\n",
       "      <th>min_age_range</th>\n",
       "      <th>max_age_range</th>\n",
       "    </tr>\n",
       "  </thead>\n",
       "  <tbody>\n",
       "    <tr>\n",
       "      <th>count</th>\n",
       "      <td>20000.000000</td>\n",
       "      <td>20000.000000</td>\n",
       "    </tr>\n",
       "    <tr>\n",
       "      <th>mean</th>\n",
       "      <td>16.145300</td>\n",
       "      <td>18.884050</td>\n",
       "    </tr>\n",
       "    <tr>\n",
       "      <th>std</th>\n",
       "      <td>2.420017</td>\n",
       "      <td>1.450452</td>\n",
       "    </tr>\n",
       "    <tr>\n",
       "      <th>min</th>\n",
       "      <td>13.000000</td>\n",
       "      <td>13.000000</td>\n",
       "    </tr>\n",
       "    <tr>\n",
       "      <th>25%</th>\n",
       "      <td>13.000000</td>\n",
       "      <td>17.000000</td>\n",
       "    </tr>\n",
       "    <tr>\n",
       "      <th>50%</th>\n",
       "      <td>18.000000</td>\n",
       "      <td>20.000000</td>\n",
       "    </tr>\n",
       "    <tr>\n",
       "      <th>75%</th>\n",
       "      <td>18.000000</td>\n",
       "      <td>20.000000</td>\n",
       "    </tr>\n",
       "    <tr>\n",
       "      <th>max</th>\n",
       "      <td>21.000000</td>\n",
       "      <td>20.000000</td>\n",
       "    </tr>\n",
       "  </tbody>\n",
       "</table>\n",
       "</div>"
      ],
      "text/plain": [
       "       min_age_range  max_age_range\n",
       "count   20000.000000   20000.000000\n",
       "mean       16.145300      18.884050\n",
       "std         2.420017       1.450452\n",
       "min        13.000000      13.000000\n",
       "25%        13.000000      17.000000\n",
       "50%        18.000000      20.000000\n",
       "75%        18.000000      20.000000\n",
       "max        21.000000      20.000000"
      ]
     },
     "execution_count": 15,
     "metadata": {},
     "output_type": "execute_result"
    }
   ],
   "source": [
    "df[['min_age_range','max_age_range']].describe()"
   ]
  },
  {
   "cell_type": "markdown",
   "metadata": {},
   "source": [
    "Here we can see one stranger thing between the max value of `min_age_range` and `max_age_range`, We will attend this with data analytics."
   ]
  },
  {
   "cell_type": "markdown",
   "metadata": {},
   "source": [
    "### Events"
   ]
  },
  {
   "cell_type": "code",
   "execution_count": 16,
   "metadata": {},
   "outputs": [
    {
     "data": {
      "text/html": [
       "<div>\n",
       "<style scoped>\n",
       "    .dataframe tbody tr th:only-of-type {\n",
       "        vertical-align: middle;\n",
       "    }\n",
       "\n",
       "    .dataframe tbody tr th {\n",
       "        vertical-align: top;\n",
       "    }\n",
       "\n",
       "    .dataframe thead th {\n",
       "        text-align: right;\n",
       "    }\n",
       "</style>\n",
       "<table border=\"1\" class=\"dataframe\">\n",
       "  <thead>\n",
       "    <tr style=\"text-align: right;\">\n",
       "      <th></th>\n",
       "      <th>event_1</th>\n",
       "      <th>event_2</th>\n",
       "      <th>event_3</th>\n",
       "      <th>event_4</th>\n",
       "      <th>event_5</th>\n",
       "    </tr>\n",
       "  </thead>\n",
       "  <tbody>\n",
       "    <tr>\n",
       "      <th>count</th>\n",
       "      <td>20000.000000</td>\n",
       "      <td>20000.00000</td>\n",
       "      <td>20000.000000</td>\n",
       "      <td>20000.000000</td>\n",
       "      <td>20000.000000</td>\n",
       "    </tr>\n",
       "    <tr>\n",
       "      <th>mean</th>\n",
       "      <td>13.751700</td>\n",
       "      <td>18.80975</td>\n",
       "      <td>0.526850</td>\n",
       "      <td>4.341200</td>\n",
       "      <td>4.452500</td>\n",
       "    </tr>\n",
       "    <tr>\n",
       "      <th>std</th>\n",
       "      <td>19.041115</td>\n",
       "      <td>26.93790</td>\n",
       "      <td>1.245695</td>\n",
       "      <td>4.218456</td>\n",
       "      <td>4.506946</td>\n",
       "    </tr>\n",
       "    <tr>\n",
       "      <th>min</th>\n",
       "      <td>0.000000</td>\n",
       "      <td>0.00000</td>\n",
       "      <td>0.000000</td>\n",
       "      <td>0.000000</td>\n",
       "      <td>0.000000</td>\n",
       "    </tr>\n",
       "    <tr>\n",
       "      <th>25%</th>\n",
       "      <td>2.000000</td>\n",
       "      <td>3.00000</td>\n",
       "      <td>0.000000</td>\n",
       "      <td>1.000000</td>\n",
       "      <td>2.000000</td>\n",
       "    </tr>\n",
       "    <tr>\n",
       "      <th>50%</th>\n",
       "      <td>6.000000</td>\n",
       "      <td>9.00000</td>\n",
       "      <td>0.000000</td>\n",
       "      <td>3.000000</td>\n",
       "      <td>3.000000</td>\n",
       "    </tr>\n",
       "    <tr>\n",
       "      <th>75%</th>\n",
       "      <td>18.000000</td>\n",
       "      <td>24.00000</td>\n",
       "      <td>1.000000</td>\n",
       "      <td>6.000000</td>\n",
       "      <td>6.000000</td>\n",
       "    </tr>\n",
       "    <tr>\n",
       "      <th>max</th>\n",
       "      <td>218.000000</td>\n",
       "      <td>437.00000</td>\n",
       "      <td>20.000000</td>\n",
       "      <td>56.000000</td>\n",
       "      <td>64.000000</td>\n",
       "    </tr>\n",
       "  </tbody>\n",
       "</table>\n",
       "</div>"
      ],
      "text/plain": [
       "            event_1      event_2       event_3       event_4       event_5\n",
       "count  20000.000000  20000.00000  20000.000000  20000.000000  20000.000000\n",
       "mean      13.751700     18.80975      0.526850      4.341200      4.452500\n",
       "std       19.041115     26.93790      1.245695      4.218456      4.506946\n",
       "min        0.000000      0.00000      0.000000      0.000000      0.000000\n",
       "25%        2.000000      3.00000      0.000000      1.000000      2.000000\n",
       "50%        6.000000      9.00000      0.000000      3.000000      3.000000\n",
       "75%       18.000000     24.00000      1.000000      6.000000      6.000000\n",
       "max      218.000000    437.00000     20.000000     56.000000     64.000000"
      ]
     },
     "execution_count": 16,
     "metadata": {},
     "output_type": "execute_result"
    }
   ],
   "source": [
    "df[['event_1','event_2','event_3','event_4','event_5']].describe()"
   ]
  },
  {
   "cell_type": "markdown",
   "metadata": {},
   "source": [
    "### Geo Data"
   ]
  },
  {
   "cell_type": "code",
   "execution_count": 17,
   "metadata": {},
   "outputs": [
    {
     "name": "stdout",
     "output_type": "stream",
     "text": [
      "Our data is distributed around: {'Regions': 34, 'Cities': 773}\n"
     ]
    }
   ],
   "source": [
    "geo_counts = {'Regions' : len(df['country_region'].unique()), 'Cities' : len(df['city'].unique())} #Unique Values\n",
    "print('Our data is distributed around: {}'.format(geo_counts))"
   ]
  },
  {
   "cell_type": "markdown",
   "metadata": {
    "toc-hr-collapsed": true
   },
   "source": [
    "<h1 style=\"font-size:1.5em;color:#2467C0\"> B. Actions: </h1>"
   ]
  },
  {
   "cell_type": "markdown",
   "metadata": {},
   "source": [
    "Really depends of choice about the model selection, is possible work without apply  some data cleaning actions, but, because we cant ask about the rise of mistakes, we decide apply the follows criterias:"
   ]
  },
  {
   "cell_type": "code",
   "execution_count": 18,
   "metadata": {},
   "outputs": [],
   "source": [
    "df = df.dropna() #drop rows with NAN values"
   ]
  },
  {
   "cell_type": "code",
   "execution_count": 19,
   "metadata": {},
   "outputs": [],
   "source": [
    "df = df.drop_duplicates(df.columns[df.columns.isin(['user_id'])], keep = 'first') #work with only one user_id"
   ]
  },
  {
   "cell_type": "code",
   "execution_count": 20,
   "metadata": {},
   "outputs": [],
   "source": [
    "df = df[df.gender != 'unknown'] #drop gender with unkwown values"
   ]
  },
  {
   "cell_type": "code",
   "execution_count": 21,
   "metadata": {},
   "outputs": [
    {
     "data": {
      "text/plain": [
       "(17542, 13)"
      ]
     },
     "execution_count": 21,
     "metadata": {},
     "output_type": "execute_result"
    }
   ],
   "source": [
    "df.shape"
   ]
  },
  {
   "cell_type": "markdown",
   "metadata": {},
   "source": [
    "<p style=\"font-family: Arial; font-size:2.75em;color:purple; font-style:bold\"><br>\n",
    "Linearizing and deploying with localpacks</p><br>"
   ]
  },
  {
   "cell_type": "code",
   "execution_count": 22,
   "metadata": {},
   "outputs": [],
   "source": [
    "from localpacks.data import get_data #"
   ]
  },
  {
   "cell_type": "markdown",
   "metadata": {},
   "source": [
    "get_data is a function, and take the original df and apply all clean decisions defined in this notebook."
   ]
  },
  {
   "cell_type": "code",
   "execution_count": 23,
   "metadata": {},
   "outputs": [],
   "source": [
    "df_clean= get_data( parse_date = True, clean = True) # calling the fuction"
   ]
  },
  {
   "cell_type": "code",
   "execution_count": 24,
   "metadata": {},
   "outputs": [
    {
     "data": {
      "text/plain": [
       "(17542, 13)"
      ]
     },
     "execution_count": 24,
     "metadata": {},
     "output_type": "execute_result"
    }
   ],
   "source": [
    "df_clean.shape "
   ]
  },
  {
   "cell_type": "code",
   "execution_count": 25,
   "metadata": {},
   "outputs": [
    {
     "data": {
      "text/html": [
       "<div>\n",
       "<style scoped>\n",
       "    .dataframe tbody tr th:only-of-type {\n",
       "        vertical-align: middle;\n",
       "    }\n",
       "\n",
       "    .dataframe tbody tr th {\n",
       "        vertical-align: top;\n",
       "    }\n",
       "\n",
       "    .dataframe thead th {\n",
       "        text-align: right;\n",
       "    }\n",
       "</style>\n",
       "<table border=\"1\" class=\"dataframe\">\n",
       "  <thead>\n",
       "    <tr style=\"text-align: right;\">\n",
       "      <th></th>\n",
       "      <th>user_id</th>\n",
       "      <th>platform</th>\n",
       "      <th>country_region</th>\n",
       "      <th>city</th>\n",
       "      <th>gender</th>\n",
       "      <th>min_age_range</th>\n",
       "      <th>max_age_range</th>\n",
       "      <th>event_1</th>\n",
       "      <th>event_2</th>\n",
       "      <th>event_3</th>\n",
       "      <th>event_4</th>\n",
       "      <th>event_5</th>\n",
       "      <th>target_churn_indicator</th>\n",
       "    </tr>\n",
       "    <tr>\n",
       "      <th>install_time</th>\n",
       "      <th></th>\n",
       "      <th></th>\n",
       "      <th></th>\n",
       "      <th></th>\n",
       "      <th></th>\n",
       "      <th></th>\n",
       "      <th></th>\n",
       "      <th></th>\n",
       "      <th></th>\n",
       "      <th></th>\n",
       "      <th></th>\n",
       "      <th></th>\n",
       "      <th></th>\n",
       "    </tr>\n",
       "  </thead>\n",
       "  <tbody>\n",
       "    <tr>\n",
       "      <th>2018-07-04 19:24:24</th>\n",
       "      <td>2ba6f357</td>\n",
       "      <td>Android</td>\n",
       "      <td>Santa Cruz</td>\n",
       "      <td>Río Gallegos</td>\n",
       "      <td>male</td>\n",
       "      <td>13</td>\n",
       "      <td>17</td>\n",
       "      <td>1</td>\n",
       "      <td>2</td>\n",
       "      <td>0</td>\n",
       "      <td>1</td>\n",
       "      <td>1</td>\n",
       "      <td>0</td>\n",
       "    </tr>\n",
       "    <tr>\n",
       "      <th>2018-06-30 13:41:29</th>\n",
       "      <td>3cb936c1</td>\n",
       "      <td>Android</td>\n",
       "      <td>Corrientes</td>\n",
       "      <td>Corrientes</td>\n",
       "      <td>male</td>\n",
       "      <td>13</td>\n",
       "      <td>17</td>\n",
       "      <td>0</td>\n",
       "      <td>7</td>\n",
       "      <td>0</td>\n",
       "      <td>3</td>\n",
       "      <td>0</td>\n",
       "      <td>1</td>\n",
       "    </tr>\n",
       "    <tr>\n",
       "      <th>2018-06-30 16:02:30</th>\n",
       "      <td>17d88bbc</td>\n",
       "      <td>Android</td>\n",
       "      <td>Cordoba</td>\n",
       "      <td>Villa Carlos Paz</td>\n",
       "      <td>female</td>\n",
       "      <td>18</td>\n",
       "      <td>20</td>\n",
       "      <td>2</td>\n",
       "      <td>1</td>\n",
       "      <td>0</td>\n",
       "      <td>2</td>\n",
       "      <td>2</td>\n",
       "      <td>1</td>\n",
       "    </tr>\n",
       "    <tr>\n",
       "      <th>2018-07-02 21:08:33</th>\n",
       "      <td>7baa10b6</td>\n",
       "      <td>Android</td>\n",
       "      <td>Buenos Aires</td>\n",
       "      <td>Don Torcuato</td>\n",
       "      <td>female</td>\n",
       "      <td>13</td>\n",
       "      <td>17</td>\n",
       "      <td>5</td>\n",
       "      <td>6</td>\n",
       "      <td>0</td>\n",
       "      <td>2</td>\n",
       "      <td>5</td>\n",
       "      <td>0</td>\n",
       "    </tr>\n",
       "    <tr>\n",
       "      <th>2018-07-07 04:18:47</th>\n",
       "      <td>120d379</td>\n",
       "      <td>Android</td>\n",
       "      <td>Santiago del Estero</td>\n",
       "      <td>Santiago del Estero</td>\n",
       "      <td>female</td>\n",
       "      <td>13</td>\n",
       "      <td>17</td>\n",
       "      <td>8</td>\n",
       "      <td>12</td>\n",
       "      <td>0</td>\n",
       "      <td>2</td>\n",
       "      <td>3</td>\n",
       "      <td>0</td>\n",
       "    </tr>\n",
       "  </tbody>\n",
       "</table>\n",
       "</div>"
      ],
      "text/plain": [
       "                      user_id platform       country_region  \\\n",
       "install_time                                                  \n",
       "2018-07-04 19:24:24  2ba6f357  Android           Santa Cruz   \n",
       "2018-06-30 13:41:29  3cb936c1  Android           Corrientes   \n",
       "2018-06-30 16:02:30  17d88bbc  Android              Cordoba   \n",
       "2018-07-02 21:08:33  7baa10b6  Android         Buenos Aires   \n",
       "2018-07-07 04:18:47   120d379  Android  Santiago del Estero   \n",
       "\n",
       "                                    city  gender  min_age_range  \\\n",
       "install_time                                                      \n",
       "2018-07-04 19:24:24         Río Gallegos    male             13   \n",
       "2018-06-30 13:41:29           Corrientes    male             13   \n",
       "2018-06-30 16:02:30     Villa Carlos Paz  female             18   \n",
       "2018-07-02 21:08:33         Don Torcuato  female             13   \n",
       "2018-07-07 04:18:47  Santiago del Estero  female             13   \n",
       "\n",
       "                     max_age_range  event_1  event_2  event_3  event_4  \\\n",
       "install_time                                                             \n",
       "2018-07-04 19:24:24             17        1        2        0        1   \n",
       "2018-06-30 13:41:29             17        0        7        0        3   \n",
       "2018-06-30 16:02:30             20        2        1        0        2   \n",
       "2018-07-02 21:08:33             17        5        6        0        2   \n",
       "2018-07-07 04:18:47             17        8       12        0        2   \n",
       "\n",
       "                     event_5  target_churn_indicator  \n",
       "install_time                                          \n",
       "2018-07-04 19:24:24        1                       0  \n",
       "2018-06-30 13:41:29        0                       1  \n",
       "2018-06-30 16:02:30        2                       1  \n",
       "2018-07-02 21:08:33        5                       0  \n",
       "2018-07-07 04:18:47        3                       0  "
      ]
     },
     "execution_count": 25,
     "metadata": {},
     "output_type": "execute_result"
    }
   ],
   "source": [
    "df.head()"
   ]
  }
 ],
 "metadata": {
  "kernelspec": {
   "display_name": "Python 3",
   "language": "python",
   "name": "python3"
  },
  "language_info": {
   "codemirror_mode": {
    "name": "ipython",
    "version": 3
   },
   "file_extension": ".py",
   "mimetype": "text/x-python",
   "name": "python",
   "nbconvert_exporter": "python",
   "pygments_lexer": "ipython3",
   "version": "3.7.1"
  }
 },
 "nbformat": 4,
 "nbformat_minor": 2
}
