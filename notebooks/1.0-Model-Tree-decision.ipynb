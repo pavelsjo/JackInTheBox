{
 "cells": [
  {
   "cell_type": "code",
   "execution_count": 1,
   "metadata": {},
   "outputs": [],
   "source": [
    "#local packpage\n",
    "from localpacks.data import get_data\n",
    "\n",
    "#data set\n",
    "import pandas as pd\n",
    "import numpy as np\n",
    "\n",
    "\n",
    "#Graphics\n",
    "import matplotlib.pyplot as plt\n",
    "\n",
    "#model\n",
    "from sklearn.model_selection import train_test_split\n",
    "\n",
    "from sklearn.tree import DecisionTreeClassifier\n",
    "from sklearn.tree import export_graphviz\n",
    "import graphviz"
   ]
  },
  {
   "cell_type": "code",
   "execution_count": 2,
   "metadata": {},
   "outputs": [],
   "source": [
    "df = get_data()"
   ]
  },
  {
   "cell_type": "code",
   "execution_count": 3,
   "metadata": {},
   "outputs": [
    {
     "data": {
      "text/html": [
       "<div>\n",
       "<style scoped>\n",
       "    .dataframe tbody tr th:only-of-type {\n",
       "        vertical-align: middle;\n",
       "    }\n",
       "\n",
       "    .dataframe tbody tr th {\n",
       "        vertical-align: top;\n",
       "    }\n",
       "\n",
       "    .dataframe thead th {\n",
       "        text-align: right;\n",
       "    }\n",
       "</style>\n",
       "<table border=\"1\" class=\"dataframe\">\n",
       "  <thead>\n",
       "    <tr style=\"text-align: right;\">\n",
       "      <th></th>\n",
       "      <th>user_id</th>\n",
       "      <th>platform</th>\n",
       "      <th>country_region</th>\n",
       "      <th>city</th>\n",
       "      <th>gender</th>\n",
       "      <th>min_age_range</th>\n",
       "      <th>max_age_range</th>\n",
       "      <th>event_1</th>\n",
       "      <th>event_2</th>\n",
       "      <th>event_3</th>\n",
       "      <th>event_4</th>\n",
       "      <th>event_5</th>\n",
       "      <th>target_churn_indicator</th>\n",
       "    </tr>\n",
       "    <tr>\n",
       "      <th>install_time</th>\n",
       "      <th></th>\n",
       "      <th></th>\n",
       "      <th></th>\n",
       "      <th></th>\n",
       "      <th></th>\n",
       "      <th></th>\n",
       "      <th></th>\n",
       "      <th></th>\n",
       "      <th></th>\n",
       "      <th></th>\n",
       "      <th></th>\n",
       "      <th></th>\n",
       "      <th></th>\n",
       "    </tr>\n",
       "  </thead>\n",
       "  <tbody>\n",
       "    <tr>\n",
       "      <th>2018-07-04 19:24:24</th>\n",
       "      <td>2ba6f357</td>\n",
       "      <td>Android</td>\n",
       "      <td>Santa Cruz</td>\n",
       "      <td>Río Gallegos</td>\n",
       "      <td>male</td>\n",
       "      <td>13</td>\n",
       "      <td>17</td>\n",
       "      <td>1</td>\n",
       "      <td>2</td>\n",
       "      <td>0</td>\n",
       "      <td>1</td>\n",
       "      <td>1</td>\n",
       "      <td>0</td>\n",
       "    </tr>\n",
       "    <tr>\n",
       "      <th>2018-07-02 21:08:33</th>\n",
       "      <td>7baa10b6</td>\n",
       "      <td>Android</td>\n",
       "      <td>Buenos Aires</td>\n",
       "      <td>Don Torcuato</td>\n",
       "      <td>female</td>\n",
       "      <td>13</td>\n",
       "      <td>17</td>\n",
       "      <td>5</td>\n",
       "      <td>6</td>\n",
       "      <td>0</td>\n",
       "      <td>2</td>\n",
       "      <td>5</td>\n",
       "      <td>0</td>\n",
       "    </tr>\n",
       "    <tr>\n",
       "      <th>2018-07-07 04:18:47</th>\n",
       "      <td>120d379</td>\n",
       "      <td>Android</td>\n",
       "      <td>Santiago del Estero</td>\n",
       "      <td>Santiago del Estero</td>\n",
       "      <td>female</td>\n",
       "      <td>13</td>\n",
       "      <td>17</td>\n",
       "      <td>8</td>\n",
       "      <td>12</td>\n",
       "      <td>0</td>\n",
       "      <td>2</td>\n",
       "      <td>3</td>\n",
       "      <td>0</td>\n",
       "    </tr>\n",
       "  </tbody>\n",
       "</table>\n",
       "</div>"
      ],
      "text/plain": [
       "                      user_id platform       country_region  \\\n",
       "install_time                                                  \n",
       "2018-07-04 19:24:24  2ba6f357  Android           Santa Cruz   \n",
       "2018-07-02 21:08:33  7baa10b6  Android         Buenos Aires   \n",
       "2018-07-07 04:18:47   120d379  Android  Santiago del Estero   \n",
       "\n",
       "                                    city  gender  min_age_range  \\\n",
       "install_time                                                      \n",
       "2018-07-04 19:24:24         Río Gallegos    male             13   \n",
       "2018-07-02 21:08:33         Don Torcuato  female             13   \n",
       "2018-07-07 04:18:47  Santiago del Estero  female             13   \n",
       "\n",
       "                     max_age_range  event_1  event_2  event_3  event_4  \\\n",
       "install_time                                                             \n",
       "2018-07-04 19:24:24             17        1        2        0        1   \n",
       "2018-07-02 21:08:33             17        5        6        0        2   \n",
       "2018-07-07 04:18:47             17        8       12        0        2   \n",
       "\n",
       "                     event_5  target_churn_indicator  \n",
       "install_time                                          \n",
       "2018-07-04 19:24:24        1                       0  \n",
       "2018-07-02 21:08:33        5                       0  \n",
       "2018-07-07 04:18:47        3                       0  "
      ]
     },
     "execution_count": 3,
     "metadata": {},
     "output_type": "execute_result"
    }
   ],
   "source": [
    "df.head(3)"
   ]
  },
  {
   "cell_type": "markdown",
   "metadata": {},
   "source": [
    "### Working with a subset"
   ]
  },
  {
   "cell_type": "code",
   "execution_count": 4,
   "metadata": {},
   "outputs": [],
   "source": [
    "features_sub_set = ['platform','gender','event_1','event_2','event_3','event_4','event_5']"
   ]
  },
  {
   "cell_type": "code",
   "execution_count": 5,
   "metadata": {},
   "outputs": [],
   "source": [
    "features = df[features_sub_set]"
   ]
  },
  {
   "cell_type": "code",
   "execution_count": 6,
   "metadata": {},
   "outputs": [
    {
     "data": {
      "text/html": [
       "<div>\n",
       "<style scoped>\n",
       "    .dataframe tbody tr th:only-of-type {\n",
       "        vertical-align: middle;\n",
       "    }\n",
       "\n",
       "    .dataframe tbody tr th {\n",
       "        vertical-align: top;\n",
       "    }\n",
       "\n",
       "    .dataframe thead th {\n",
       "        text-align: right;\n",
       "    }\n",
       "</style>\n",
       "<table border=\"1\" class=\"dataframe\">\n",
       "  <thead>\n",
       "    <tr style=\"text-align: right;\">\n",
       "      <th></th>\n",
       "      <th>user_id</th>\n",
       "      <th>platform</th>\n",
       "      <th>country_region</th>\n",
       "      <th>city</th>\n",
       "      <th>gender</th>\n",
       "      <th>min_age_range</th>\n",
       "      <th>max_age_range</th>\n",
       "      <th>event_1</th>\n",
       "      <th>event_2</th>\n",
       "      <th>event_3</th>\n",
       "      <th>event_4</th>\n",
       "      <th>event_5</th>\n",
       "      <th>target_churn_indicator</th>\n",
       "    </tr>\n",
       "    <tr>\n",
       "      <th>install_time</th>\n",
       "      <th></th>\n",
       "      <th></th>\n",
       "      <th></th>\n",
       "      <th></th>\n",
       "      <th></th>\n",
       "      <th></th>\n",
       "      <th></th>\n",
       "      <th></th>\n",
       "      <th></th>\n",
       "      <th></th>\n",
       "      <th></th>\n",
       "      <th></th>\n",
       "      <th></th>\n",
       "    </tr>\n",
       "  </thead>\n",
       "  <tbody>\n",
       "    <tr>\n",
       "      <th>2018-07-04 19:24:24</th>\n",
       "      <td>2ba6f357</td>\n",
       "      <td>Android</td>\n",
       "      <td>Santa Cruz</td>\n",
       "      <td>Río Gallegos</td>\n",
       "      <td>male</td>\n",
       "      <td>13</td>\n",
       "      <td>17</td>\n",
       "      <td>1</td>\n",
       "      <td>2</td>\n",
       "      <td>0</td>\n",
       "      <td>1</td>\n",
       "      <td>1</td>\n",
       "      <td>0</td>\n",
       "    </tr>\n",
       "    <tr>\n",
       "      <th>2018-07-02 21:08:33</th>\n",
       "      <td>7baa10b6</td>\n",
       "      <td>Android</td>\n",
       "      <td>Buenos Aires</td>\n",
       "      <td>Don Torcuato</td>\n",
       "      <td>female</td>\n",
       "      <td>13</td>\n",
       "      <td>17</td>\n",
       "      <td>5</td>\n",
       "      <td>6</td>\n",
       "      <td>0</td>\n",
       "      <td>2</td>\n",
       "      <td>5</td>\n",
       "      <td>0</td>\n",
       "    </tr>\n",
       "    <tr>\n",
       "      <th>2018-07-07 04:18:47</th>\n",
       "      <td>120d379</td>\n",
       "      <td>Android</td>\n",
       "      <td>Santiago del Estero</td>\n",
       "      <td>Santiago del Estero</td>\n",
       "      <td>female</td>\n",
       "      <td>13</td>\n",
       "      <td>17</td>\n",
       "      <td>8</td>\n",
       "      <td>12</td>\n",
       "      <td>0</td>\n",
       "      <td>2</td>\n",
       "      <td>3</td>\n",
       "      <td>0</td>\n",
       "    </tr>\n",
       "    <tr>\n",
       "      <th>2018-07-03 05:55:47</th>\n",
       "      <td>c35079e1</td>\n",
       "      <td>Android</td>\n",
       "      <td>Buenos Aires</td>\n",
       "      <td>Florencio Varela</td>\n",
       "      <td>male</td>\n",
       "      <td>18</td>\n",
       "      <td>20</td>\n",
       "      <td>35</td>\n",
       "      <td>46</td>\n",
       "      <td>4</td>\n",
       "      <td>10</td>\n",
       "      <td>12</td>\n",
       "      <td>0</td>\n",
       "    </tr>\n",
       "    <tr>\n",
       "      <th>2018-07-01 03:22:32</th>\n",
       "      <td>d66b5d4d</td>\n",
       "      <td>Android</td>\n",
       "      <td>Entre Rios</td>\n",
       "      <td>Villa Angelica</td>\n",
       "      <td>male</td>\n",
       "      <td>13</td>\n",
       "      <td>17</td>\n",
       "      <td>38</td>\n",
       "      <td>40</td>\n",
       "      <td>0</td>\n",
       "      <td>6</td>\n",
       "      <td>15</td>\n",
       "      <td>0</td>\n",
       "    </tr>\n",
       "  </tbody>\n",
       "</table>\n",
       "</div>"
      ],
      "text/plain": [
       "                      user_id platform       country_region  \\\n",
       "install_time                                                  \n",
       "2018-07-04 19:24:24  2ba6f357  Android           Santa Cruz   \n",
       "2018-07-02 21:08:33  7baa10b6  Android         Buenos Aires   \n",
       "2018-07-07 04:18:47   120d379  Android  Santiago del Estero   \n",
       "2018-07-03 05:55:47  c35079e1  Android         Buenos Aires   \n",
       "2018-07-01 03:22:32  d66b5d4d  Android           Entre Rios   \n",
       "\n",
       "                                    city  gender  min_age_range  \\\n",
       "install_time                                                      \n",
       "2018-07-04 19:24:24         Río Gallegos    male             13   \n",
       "2018-07-02 21:08:33         Don Torcuato  female             13   \n",
       "2018-07-07 04:18:47  Santiago del Estero  female             13   \n",
       "2018-07-03 05:55:47     Florencio Varela    male             18   \n",
       "2018-07-01 03:22:32       Villa Angelica    male             13   \n",
       "\n",
       "                     max_age_range  event_1  event_2  event_3  event_4  \\\n",
       "install_time                                                             \n",
       "2018-07-04 19:24:24             17        1        2        0        1   \n",
       "2018-07-02 21:08:33             17        5        6        0        2   \n",
       "2018-07-07 04:18:47             17        8       12        0        2   \n",
       "2018-07-03 05:55:47             20       35       46        4       10   \n",
       "2018-07-01 03:22:32             17       38       40        0        6   \n",
       "\n",
       "                     event_5  target_churn_indicator  \n",
       "install_time                                          \n",
       "2018-07-04 19:24:24        1                       0  \n",
       "2018-07-02 21:08:33        5                       0  \n",
       "2018-07-07 04:18:47        3                       0  \n",
       "2018-07-03 05:55:47       12                       0  \n",
       "2018-07-01 03:22:32       15                       0  "
      ]
     },
     "execution_count": 6,
     "metadata": {},
     "output_type": "execute_result"
    }
   ],
   "source": [
    "df.head()"
   ]
  },
  {
   "cell_type": "markdown",
   "metadata": {},
   "source": [
    "### Categorical Variables - Get dummies"
   ]
  },
  {
   "cell_type": "code",
   "execution_count": 7,
   "metadata": {},
   "outputs": [],
   "source": [
    "features_dummies = pd.get_dummies(features)"
   ]
  },
  {
   "cell_type": "code",
   "execution_count": 8,
   "metadata": {},
   "outputs": [
    {
     "data": {
      "text/html": [
       "<div>\n",
       "<style scoped>\n",
       "    .dataframe tbody tr th:only-of-type {\n",
       "        vertical-align: middle;\n",
       "    }\n",
       "\n",
       "    .dataframe tbody tr th {\n",
       "        vertical-align: top;\n",
       "    }\n",
       "\n",
       "    .dataframe thead th {\n",
       "        text-align: right;\n",
       "    }\n",
       "</style>\n",
       "<table border=\"1\" class=\"dataframe\">\n",
       "  <thead>\n",
       "    <tr style=\"text-align: right;\">\n",
       "      <th></th>\n",
       "      <th>event_1</th>\n",
       "      <th>event_2</th>\n",
       "      <th>event_3</th>\n",
       "      <th>event_4</th>\n",
       "      <th>event_5</th>\n",
       "      <th>platform_Android</th>\n",
       "      <th>platform_iOS</th>\n",
       "      <th>gender_female</th>\n",
       "      <th>gender_male</th>\n",
       "    </tr>\n",
       "    <tr>\n",
       "      <th>install_time</th>\n",
       "      <th></th>\n",
       "      <th></th>\n",
       "      <th></th>\n",
       "      <th></th>\n",
       "      <th></th>\n",
       "      <th></th>\n",
       "      <th></th>\n",
       "      <th></th>\n",
       "      <th></th>\n",
       "    </tr>\n",
       "  </thead>\n",
       "  <tbody>\n",
       "    <tr>\n",
       "      <th>2018-07-04 19:24:24</th>\n",
       "      <td>1</td>\n",
       "      <td>2</td>\n",
       "      <td>0</td>\n",
       "      <td>1</td>\n",
       "      <td>1</td>\n",
       "      <td>1</td>\n",
       "      <td>0</td>\n",
       "      <td>0</td>\n",
       "      <td>1</td>\n",
       "    </tr>\n",
       "    <tr>\n",
       "      <th>2018-07-02 21:08:33</th>\n",
       "      <td>5</td>\n",
       "      <td>6</td>\n",
       "      <td>0</td>\n",
       "      <td>2</td>\n",
       "      <td>5</td>\n",
       "      <td>1</td>\n",
       "      <td>0</td>\n",
       "      <td>1</td>\n",
       "      <td>0</td>\n",
       "    </tr>\n",
       "    <tr>\n",
       "      <th>2018-07-07 04:18:47</th>\n",
       "      <td>8</td>\n",
       "      <td>12</td>\n",
       "      <td>0</td>\n",
       "      <td>2</td>\n",
       "      <td>3</td>\n",
       "      <td>1</td>\n",
       "      <td>0</td>\n",
       "      <td>1</td>\n",
       "      <td>0</td>\n",
       "    </tr>\n",
       "    <tr>\n",
       "      <th>2018-07-03 05:55:47</th>\n",
       "      <td>35</td>\n",
       "      <td>46</td>\n",
       "      <td>4</td>\n",
       "      <td>10</td>\n",
       "      <td>12</td>\n",
       "      <td>1</td>\n",
       "      <td>0</td>\n",
       "      <td>0</td>\n",
       "      <td>1</td>\n",
       "    </tr>\n",
       "    <tr>\n",
       "      <th>2018-07-01 03:22:32</th>\n",
       "      <td>38</td>\n",
       "      <td>40</td>\n",
       "      <td>0</td>\n",
       "      <td>6</td>\n",
       "      <td>15</td>\n",
       "      <td>1</td>\n",
       "      <td>0</td>\n",
       "      <td>0</td>\n",
       "      <td>1</td>\n",
       "    </tr>\n",
       "  </tbody>\n",
       "</table>\n",
       "</div>"
      ],
      "text/plain": [
       "                     event_1  event_2  event_3  event_4  event_5  \\\n",
       "install_time                                                       \n",
       "2018-07-04 19:24:24        1        2        0        1        1   \n",
       "2018-07-02 21:08:33        5        6        0        2        5   \n",
       "2018-07-07 04:18:47        8       12        0        2        3   \n",
       "2018-07-03 05:55:47       35       46        4       10       12   \n",
       "2018-07-01 03:22:32       38       40        0        6       15   \n",
       "\n",
       "                     platform_Android  platform_iOS  gender_female  \\\n",
       "install_time                                                         \n",
       "2018-07-04 19:24:24                 1             0              0   \n",
       "2018-07-02 21:08:33                 1             0              1   \n",
       "2018-07-07 04:18:47                 1             0              1   \n",
       "2018-07-03 05:55:47                 1             0              0   \n",
       "2018-07-01 03:22:32                 1             0              0   \n",
       "\n",
       "                     gender_male  \n",
       "install_time                      \n",
       "2018-07-04 19:24:24            1  \n",
       "2018-07-02 21:08:33            0  \n",
       "2018-07-07 04:18:47            0  \n",
       "2018-07-03 05:55:47            1  \n",
       "2018-07-01 03:22:32            1  "
      ]
     },
     "execution_count": 8,
     "metadata": {},
     "output_type": "execute_result"
    }
   ],
   "source": [
    "features_dummies.head()"
   ]
  },
  {
   "cell_type": "code",
   "execution_count": 9,
   "metadata": {},
   "outputs": [
    {
     "name": "stdout",
     "output_type": "stream",
     "text": [
      "X.shape: (15503, 9) y.shape: (15503,)\n"
     ]
    }
   ],
   "source": [
    "# Extract NumPy arrays\n",
    "X = features_dummies.values\n",
    "y = df['target_churn_indicator'].values\n",
    "print(\"X.shape: {} y.shape: {}\".format(X.shape, y.shape))"
   ]
  },
  {
   "cell_type": "code",
   "execution_count": 10,
   "metadata": {},
   "outputs": [],
   "source": [
    "#split data\n",
    "X_train, X_test, y_train, y_test = train_test_split(X, y, random_state=1, stratify=y)"
   ]
  },
  {
   "cell_type": "code",
   "execution_count": 11,
   "metadata": {},
   "outputs": [
    {
     "name": "stdout",
     "output_type": "stream",
     "text": [
      "Accuracy on training set: 0.709\n",
      "Accuracy on test set: 0.703\n"
     ]
    }
   ],
   "source": [
    "#Training our Tree-model\n",
    "tree = DecisionTreeClassifier(random_state=0, max_depth=3)\n",
    "tree.fit(X_train, y_train)\n",
    "print(\"Accuracy on training set: {:.3f}\".format(tree.score(X_train, y_train)))\n",
    "print(\"Accuracy on test set: {:.3f}\".format(tree.score(X_test, y_test)))"
   ]
  },
  {
   "cell_type": "code",
   "execution_count": 12,
   "metadata": {},
   "outputs": [],
   "source": [
    "#visualization\n",
    "export_graphviz(tree, out_file=\"tree.dot\",\n",
    "                class_names=[\"Jack's Surprise!\", \"Jack's hide\"], feature_names=features_dummies.columns,\n",
    "                impurity=False, filled=True)"
   ]
  },
  {
   "cell_type": "code",
   "execution_count": 13,
   "metadata": {},
   "outputs": [
    {
     "data": {
      "image/svg+xml": [
       "<?xml version=\"1.0\" encoding=\"UTF-8\" standalone=\"no\"?>\r\n",
       "<!DOCTYPE svg PUBLIC \"-//W3C//DTD SVG 1.1//EN\"\r\n",
       " \"http://www.w3.org/Graphics/SVG/1.1/DTD/svg11.dtd\">\r\n",
       "<!-- Generated by graphviz version 2.38.0 (20140413.2041)\r\n",
       " -->\r\n",
       "<!-- Title: Tree Pages: 1 -->\r\n",
       "<svg width=\"1250pt\" height=\"373pt\"\r\n",
       " viewBox=\"0.00 0.00 1250.00 373.00\" xmlns=\"http://www.w3.org/2000/svg\" xmlns:xlink=\"http://www.w3.org/1999/xlink\">\r\n",
       "<g id=\"graph0\" class=\"graph\" transform=\"scale(1 1) rotate(0) translate(4 369)\">\r\n",
       "<title>Tree</title>\r\n",
       "<polygon fill=\"white\" stroke=\"none\" points=\"-4,4 -4,-369 1246,-369 1246,4 -4,4\"/>\r\n",
       "<!-- 0 -->\r\n",
       "<g id=\"node1\" class=\"node\"><title>0</title>\r\n",
       "<polygon fill=\"#e58139\" fill-opacity=\"0.015686\" stroke=\"black\" points=\"619,-365 470,-365 470,-297 619,-297 619,-365\"/>\r\n",
       "<text text-anchor=\"middle\" x=\"544.5\" y=\"-349.8\" font-family=\"Times New Roman,serif\" font-size=\"14.00\">event_4 &lt;= 3.5</text>\r\n",
       "<text text-anchor=\"middle\" x=\"544.5\" y=\"-334.8\" font-family=\"Times New Roman,serif\" font-size=\"14.00\">samples = 11627</text>\r\n",
       "<text text-anchor=\"middle\" x=\"544.5\" y=\"-319.8\" font-family=\"Times New Roman,serif\" font-size=\"14.00\">value = [5860, 5767]</text>\r\n",
       "<text text-anchor=\"middle\" x=\"544.5\" y=\"-304.8\" font-family=\"Times New Roman,serif\" font-size=\"14.00\">class = Jack&#39;s Surprise!</text>\r\n",
       "</g>\r\n",
       "<!-- 1 -->\r\n",
       "<g id=\"node2\" class=\"node\"><title>1</title>\r\n",
       "<polygon fill=\"#399de5\" fill-opacity=\"0.521569\" stroke=\"black\" points=\"489,-261 358,-261 358,-193 489,-193 489,-261\"/>\r\n",
       "<text text-anchor=\"middle\" x=\"423.5\" y=\"-245.8\" font-family=\"Times New Roman,serif\" font-size=\"14.00\">event_4 &lt;= 1.5</text>\r\n",
       "<text text-anchor=\"middle\" x=\"423.5\" y=\"-230.8\" font-family=\"Times New Roman,serif\" font-size=\"14.00\">samples = 6645</text>\r\n",
       "<text text-anchor=\"middle\" x=\"423.5\" y=\"-215.8\" font-family=\"Times New Roman,serif\" font-size=\"14.00\">value = [2146, 4499]</text>\r\n",
       "<text text-anchor=\"middle\" x=\"423.5\" y=\"-200.8\" font-family=\"Times New Roman,serif\" font-size=\"14.00\">class = Jack&#39;s hide</text>\r\n",
       "</g>\r\n",
       "<!-- 0&#45;&gt;1 -->\r\n",
       "<g id=\"edge1\" class=\"edge\"><title>0&#45;&gt;1</title>\r\n",
       "<path fill=\"none\" stroke=\"black\" d=\"M505.215,-296.884C494.226,-287.62 482.167,-277.455 470.768,-267.845\"/>\r\n",
       "<polygon fill=\"black\" stroke=\"black\" points=\"472.904,-265.069 463.002,-261.299 468.392,-270.421 472.904,-265.069\"/>\r\n",
       "<text text-anchor=\"middle\" x=\"465.125\" y=\"-282.509\" font-family=\"Times New Roman,serif\" font-size=\"14.00\">True</text>\r\n",
       "</g>\r\n",
       "<!-- 8 -->\r\n",
       "<g id=\"node9\" class=\"node\"><title>8</title>\r\n",
       "<polygon fill=\"#e58139\" fill-opacity=\"0.658824\" stroke=\"black\" points=\"824,-261 675,-261 675,-193 824,-193 824,-261\"/>\r\n",
       "<text text-anchor=\"middle\" x=\"749.5\" y=\"-245.8\" font-family=\"Times New Roman,serif\" font-size=\"14.00\">event_4 &lt;= 6.5</text>\r\n",
       "<text text-anchor=\"middle\" x=\"749.5\" y=\"-230.8\" font-family=\"Times New Roman,serif\" font-size=\"14.00\">samples = 4982</text>\r\n",
       "<text text-anchor=\"middle\" x=\"749.5\" y=\"-215.8\" font-family=\"Times New Roman,serif\" font-size=\"14.00\">value = [3714, 1268]</text>\r\n",
       "<text text-anchor=\"middle\" x=\"749.5\" y=\"-200.8\" font-family=\"Times New Roman,serif\" font-size=\"14.00\">class = Jack&#39;s Surprise!</text>\r\n",
       "</g>\r\n",
       "<!-- 0&#45;&gt;8 -->\r\n",
       "<g id=\"edge8\" class=\"edge\"><title>0&#45;&gt;8</title>\r\n",
       "<path fill=\"none\" stroke=\"black\" d=\"M611.058,-296.884C631.12,-286.901 653.286,-275.872 673.892,-265.619\"/>\r\n",
       "<polygon fill=\"black\" stroke=\"black\" points=\"675.532,-268.713 682.926,-261.125 672.414,-262.446 675.532,-268.713\"/>\r\n",
       "<text text-anchor=\"middle\" x=\"674.974\" y=\"-281.126\" font-family=\"Times New Roman,serif\" font-size=\"14.00\">False</text>\r\n",
       "</g>\r\n",
       "<!-- 2 -->\r\n",
       "<g id=\"node3\" class=\"node\"><title>2</title>\r\n",
       "<polygon fill=\"#399de5\" fill-opacity=\"0.729412\" stroke=\"black\" points=\"264,-157 139,-157 139,-89 264,-89 264,-157\"/>\r\n",
       "<text text-anchor=\"middle\" x=\"201.5\" y=\"-141.8\" font-family=\"Times New Roman,serif\" font-size=\"14.00\">event_5 &lt;= 0.5</text>\r\n",
       "<text text-anchor=\"middle\" x=\"201.5\" y=\"-126.8\" font-family=\"Times New Roman,serif\" font-size=\"14.00\">samples = 3223</text>\r\n",
       "<text text-anchor=\"middle\" x=\"201.5\" y=\"-111.8\" font-family=\"Times New Roman,serif\" font-size=\"14.00\">value = [689, 2534]</text>\r\n",
       "<text text-anchor=\"middle\" x=\"201.5\" y=\"-96.8\" font-family=\"Times New Roman,serif\" font-size=\"14.00\">class = Jack&#39;s hide</text>\r\n",
       "</g>\r\n",
       "<!-- 1&#45;&gt;2 -->\r\n",
       "<g id=\"edge2\" class=\"edge\"><title>1&#45;&gt;2</title>\r\n",
       "<path fill=\"none\" stroke=\"black\" d=\"M357.794,-195.811C331.374,-183.672 300.822,-169.634 273.777,-157.208\"/>\r\n",
       "<polygon fill=\"black\" stroke=\"black\" points=\"274.917,-153.88 264.369,-152.886 271.995,-160.241 274.917,-153.88\"/>\r\n",
       "</g>\r\n",
       "<!-- 5 -->\r\n",
       "<g id=\"node6\" class=\"node\"><title>5</title>\r\n",
       "<polygon fill=\"#399de5\" fill-opacity=\"0.258824\" stroke=\"black\" points=\"489,-157 358,-157 358,-89 489,-89 489,-157\"/>\r\n",
       "<text text-anchor=\"middle\" x=\"423.5\" y=\"-141.8\" font-family=\"Times New Roman,serif\" font-size=\"14.00\">event_1 &lt;= 4.5</text>\r\n",
       "<text text-anchor=\"middle\" x=\"423.5\" y=\"-126.8\" font-family=\"Times New Roman,serif\" font-size=\"14.00\">samples = 3422</text>\r\n",
       "<text text-anchor=\"middle\" x=\"423.5\" y=\"-111.8\" font-family=\"Times New Roman,serif\" font-size=\"14.00\">value = [1457, 1965]</text>\r\n",
       "<text text-anchor=\"middle\" x=\"423.5\" y=\"-96.8\" font-family=\"Times New Roman,serif\" font-size=\"14.00\">class = Jack&#39;s hide</text>\r\n",
       "</g>\r\n",
       "<!-- 1&#45;&gt;5 -->\r\n",
       "<g id=\"edge5\" class=\"edge\"><title>1&#45;&gt;5</title>\r\n",
       "<path fill=\"none\" stroke=\"black\" d=\"M423.5,-192.884C423.5,-184.778 423.5,-175.982 423.5,-167.472\"/>\r\n",
       "<polygon fill=\"black\" stroke=\"black\" points=\"427,-167.299 423.5,-157.299 420,-167.299 427,-167.299\"/>\r\n",
       "</g>\r\n",
       "<!-- 3 -->\r\n",
       "<g id=\"node4\" class=\"node\"><title>3</title>\r\n",
       "<polygon fill=\"#399de5\" fill-opacity=\"0.427451\" stroke=\"black\" points=\"121,-53 0,-53 0,-0 121,-0 121,-53\"/>\r\n",
       "<text text-anchor=\"middle\" x=\"60.5\" y=\"-37.8\" font-family=\"Times New Roman,serif\" font-size=\"14.00\">samples = 387</text>\r\n",
       "<text text-anchor=\"middle\" x=\"60.5\" y=\"-22.8\" font-family=\"Times New Roman,serif\" font-size=\"14.00\">value = [141, 246]</text>\r\n",
       "<text text-anchor=\"middle\" x=\"60.5\" y=\"-7.8\" font-family=\"Times New Roman,serif\" font-size=\"14.00\">class = Jack&#39;s hide</text>\r\n",
       "</g>\r\n",
       "<!-- 2&#45;&gt;3 -->\r\n",
       "<g id=\"edge3\" class=\"edge\"><title>2&#45;&gt;3</title>\r\n",
       "<path fill=\"none\" stroke=\"black\" d=\"M152.185,-88.9485C137.717,-79.2516 121.936,-68.6752 107.609,-59.073\"/>\r\n",
       "<polygon fill=\"black\" stroke=\"black\" points=\"109.156,-55.8967 98.9008,-53.2367 105.259,-61.7115 109.156,-55.8967\"/>\r\n",
       "</g>\r\n",
       "<!-- 4 -->\r\n",
       "<g id=\"node5\" class=\"node\"><title>4</title>\r\n",
       "<polygon fill=\"#399de5\" fill-opacity=\"0.760784\" stroke=\"black\" points=\"264,-53 139,-53 139,-0 264,-0 264,-53\"/>\r\n",
       "<text text-anchor=\"middle\" x=\"201.5\" y=\"-37.8\" font-family=\"Times New Roman,serif\" font-size=\"14.00\">samples = 2836</text>\r\n",
       "<text text-anchor=\"middle\" x=\"201.5\" y=\"-22.8\" font-family=\"Times New Roman,serif\" font-size=\"14.00\">value = [548, 2288]</text>\r\n",
       "<text text-anchor=\"middle\" x=\"201.5\" y=\"-7.8\" font-family=\"Times New Roman,serif\" font-size=\"14.00\">class = Jack&#39;s hide</text>\r\n",
       "</g>\r\n",
       "<!-- 2&#45;&gt;4 -->\r\n",
       "<g id=\"edge4\" class=\"edge\"><title>2&#45;&gt;4</title>\r\n",
       "<path fill=\"none\" stroke=\"black\" d=\"M201.5,-88.9485C201.5,-80.7153 201.5,-71.848 201.5,-63.4814\"/>\r\n",
       "<polygon fill=\"black\" stroke=\"black\" points=\"205,-63.2367 201.5,-53.2367 198,-63.2367 205,-63.2367\"/>\r\n",
       "</g>\r\n",
       "<!-- 6 -->\r\n",
       "<g id=\"node7\" class=\"node\"><title>6</title>\r\n",
       "<polygon fill=\"#399de5\" fill-opacity=\"0.486275\" stroke=\"black\" points=\"407,-53 282,-53 282,-0 407,-0 407,-53\"/>\r\n",
       "<text text-anchor=\"middle\" x=\"344.5\" y=\"-37.8\" font-family=\"Times New Roman,serif\" font-size=\"14.00\">samples = 1660</text>\r\n",
       "<text text-anchor=\"middle\" x=\"344.5\" y=\"-22.8\" font-family=\"Times New Roman,serif\" font-size=\"14.00\">value = [563, 1097]</text>\r\n",
       "<text text-anchor=\"middle\" x=\"344.5\" y=\"-7.8\" font-family=\"Times New Roman,serif\" font-size=\"14.00\">class = Jack&#39;s hide</text>\r\n",
       "</g>\r\n",
       "<!-- 5&#45;&gt;6 -->\r\n",
       "<g id=\"edge6\" class=\"edge\"><title>5&#45;&gt;6</title>\r\n",
       "<path fill=\"none\" stroke=\"black\" d=\"M395.87,-88.9485C388.299,-79.892 380.086,-70.0682 372.495,-60.9875\"/>\r\n",
       "<polygon fill=\"black\" stroke=\"black\" points=\"375.114,-58.6641 366.015,-53.2367 369.744,-63.1538 375.114,-58.6641\"/>\r\n",
       "</g>\r\n",
       "<!-- 7 -->\r\n",
       "<g id=\"node8\" class=\"node\"><title>7</title>\r\n",
       "<polygon fill=\"#e58139\" fill-opacity=\"0.027451\" stroke=\"black\" points=\"574,-53 425,-53 425,-0 574,-0 574,-53\"/>\r\n",
       "<text text-anchor=\"middle\" x=\"499.5\" y=\"-37.8\" font-family=\"Times New Roman,serif\" font-size=\"14.00\">samples = 1762</text>\r\n",
       "<text text-anchor=\"middle\" x=\"499.5\" y=\"-22.8\" font-family=\"Times New Roman,serif\" font-size=\"14.00\">value = [894, 868]</text>\r\n",
       "<text text-anchor=\"middle\" x=\"499.5\" y=\"-7.8\" font-family=\"Times New Roman,serif\" font-size=\"14.00\">class = Jack&#39;s Surprise!</text>\r\n",
       "</g>\r\n",
       "<!-- 5&#45;&gt;7 -->\r\n",
       "<g id=\"edge7\" class=\"edge\"><title>5&#45;&gt;7</title>\r\n",
       "<path fill=\"none\" stroke=\"black\" d=\"M450.081,-88.9485C457.291,-79.9834 465.106,-70.2666 472.347,-61.2629\"/>\r\n",
       "<polygon fill=\"black\" stroke=\"black\" points=\"475.262,-63.2228 478.802,-53.2367 469.807,-58.8358 475.262,-63.2228\"/>\r\n",
       "</g>\r\n",
       "<!-- 9 -->\r\n",
       "<g id=\"node10\" class=\"node\"><title>9</title>\r\n",
       "<polygon fill=\"#e58139\" fill-opacity=\"0.427451\" stroke=\"black\" points=\"824,-157 675,-157 675,-89 824,-89 824,-157\"/>\r\n",
       "<text text-anchor=\"middle\" x=\"749.5\" y=\"-141.8\" font-family=\"Times New Roman,serif\" font-size=\"14.00\">event_1 &lt;= 11.5</text>\r\n",
       "<text text-anchor=\"middle\" x=\"749.5\" y=\"-126.8\" font-family=\"Times New Roman,serif\" font-size=\"14.00\">samples = 2450</text>\r\n",
       "<text text-anchor=\"middle\" x=\"749.5\" y=\"-111.8\" font-family=\"Times New Roman,serif\" font-size=\"14.00\">value = [1558, 892]</text>\r\n",
       "<text text-anchor=\"middle\" x=\"749.5\" y=\"-96.8\" font-family=\"Times New Roman,serif\" font-size=\"14.00\">class = Jack&#39;s Surprise!</text>\r\n",
       "</g>\r\n",
       "<!-- 8&#45;&gt;9 -->\r\n",
       "<g id=\"edge9\" class=\"edge\"><title>8&#45;&gt;9</title>\r\n",
       "<path fill=\"none\" stroke=\"black\" d=\"M749.5,-192.884C749.5,-184.778 749.5,-175.982 749.5,-167.472\"/>\r\n",
       "<polygon fill=\"black\" stroke=\"black\" points=\"753,-167.299 749.5,-157.299 746,-167.299 753,-167.299\"/>\r\n",
       "</g>\r\n",
       "<!-- 12 -->\r\n",
       "<g id=\"node13\" class=\"node\"><title>12</title>\r\n",
       "<polygon fill=\"#e58139\" fill-opacity=\"0.827451\" stroke=\"black\" points=\"1075,-157 926,-157 926,-89 1075,-89 1075,-157\"/>\r\n",
       "<text text-anchor=\"middle\" x=\"1000.5\" y=\"-141.8\" font-family=\"Times New Roman,serif\" font-size=\"14.00\">event_1 &lt;= 9.5</text>\r\n",
       "<text text-anchor=\"middle\" x=\"1000.5\" y=\"-126.8\" font-family=\"Times New Roman,serif\" font-size=\"14.00\">samples = 2532</text>\r\n",
       "<text text-anchor=\"middle\" x=\"1000.5\" y=\"-111.8\" font-family=\"Times New Roman,serif\" font-size=\"14.00\">value = [2156, 376]</text>\r\n",
       "<text text-anchor=\"middle\" x=\"1000.5\" y=\"-96.8\" font-family=\"Times New Roman,serif\" font-size=\"14.00\">class = Jack&#39;s Surprise!</text>\r\n",
       "</g>\r\n",
       "<!-- 8&#45;&gt;12 -->\r\n",
       "<g id=\"edge12\" class=\"edge\"><title>8&#45;&gt;12</title>\r\n",
       "<path fill=\"none\" stroke=\"black\" d=\"M824.129,-195.673C853.077,-183.909 886.371,-170.379 916.18,-158.266\"/>\r\n",
       "<polygon fill=\"black\" stroke=\"black\" points=\"917.779,-161.394 925.725,-154.386 915.143,-154.909 917.779,-161.394\"/>\r\n",
       "</g>\r\n",
       "<!-- 10 -->\r\n",
       "<g id=\"node11\" class=\"node\"><title>10</title>\r\n",
       "<polygon fill=\"#e58139\" fill-opacity=\"0.192157\" stroke=\"black\" points=\"741,-53 592,-53 592,-0 741,-0 741,-53\"/>\r\n",
       "<text text-anchor=\"middle\" x=\"666.5\" y=\"-37.8\" font-family=\"Times New Roman,serif\" font-size=\"14.00\">samples = 1233</text>\r\n",
       "<text text-anchor=\"middle\" x=\"666.5\" y=\"-22.8\" font-family=\"Times New Roman,serif\" font-size=\"14.00\">value = [682, 551]</text>\r\n",
       "<text text-anchor=\"middle\" x=\"666.5\" y=\"-7.8\" font-family=\"Times New Roman,serif\" font-size=\"14.00\">class = Jack&#39;s Surprise!</text>\r\n",
       "</g>\r\n",
       "<!-- 9&#45;&gt;10 -->\r\n",
       "<g id=\"edge10\" class=\"edge\"><title>9&#45;&gt;10</title>\r\n",
       "<path fill=\"none\" stroke=\"black\" d=\"M720.471,-88.9485C712.516,-79.892 703.888,-70.0682 695.912,-60.9875\"/>\r\n",
       "<polygon fill=\"black\" stroke=\"black\" points=\"698.334,-58.4405 689.105,-53.2367 693.074,-63.0599 698.334,-58.4405\"/>\r\n",
       "</g>\r\n",
       "<!-- 11 -->\r\n",
       "<g id=\"node12\" class=\"node\"><title>11</title>\r\n",
       "<polygon fill=\"#e58139\" fill-opacity=\"0.611765\" stroke=\"black\" points=\"908,-53 759,-53 759,-0 908,-0 908,-53\"/>\r\n",
       "<text text-anchor=\"middle\" x=\"833.5\" y=\"-37.8\" font-family=\"Times New Roman,serif\" font-size=\"14.00\">samples = 1217</text>\r\n",
       "<text text-anchor=\"middle\" x=\"833.5\" y=\"-22.8\" font-family=\"Times New Roman,serif\" font-size=\"14.00\">value = [876, 341]</text>\r\n",
       "<text text-anchor=\"middle\" x=\"833.5\" y=\"-7.8\" font-family=\"Times New Roman,serif\" font-size=\"14.00\">class = Jack&#39;s Surprise!</text>\r\n",
       "</g>\r\n",
       "<!-- 9&#45;&gt;11 -->\r\n",
       "<g id=\"edge11\" class=\"edge\"><title>9&#45;&gt;11</title>\r\n",
       "<path fill=\"none\" stroke=\"black\" d=\"M778.879,-88.9485C787.011,-79.8005 795.838,-69.8697 803.978,-60.7126\"/>\r\n",
       "<polygon fill=\"black\" stroke=\"black\" points=\"806.595,-63.0361 810.623,-53.2367 801.363,-58.3855 806.595,-63.0361\"/>\r\n",
       "</g>\r\n",
       "<!-- 13 -->\r\n",
       "<g id=\"node14\" class=\"node\"><title>13</title>\r\n",
       "<polygon fill=\"#e58139\" fill-opacity=\"0.549020\" stroke=\"black\" points=\"1075,-53 926,-53 926,-0 1075,-0 1075,-53\"/>\r\n",
       "<text text-anchor=\"middle\" x=\"1000.5\" y=\"-37.8\" font-family=\"Times New Roman,serif\" font-size=\"14.00\">samples = 257</text>\r\n",
       "<text text-anchor=\"middle\" x=\"1000.5\" y=\"-22.8\" font-family=\"Times New Roman,serif\" font-size=\"14.00\">value = [177, 80]</text>\r\n",
       "<text text-anchor=\"middle\" x=\"1000.5\" y=\"-7.8\" font-family=\"Times New Roman,serif\" font-size=\"14.00\">class = Jack&#39;s Surprise!</text>\r\n",
       "</g>\r\n",
       "<!-- 12&#45;&gt;13 -->\r\n",
       "<g id=\"edge13\" class=\"edge\"><title>12&#45;&gt;13</title>\r\n",
       "<path fill=\"none\" stroke=\"black\" d=\"M1000.5,-88.9485C1000.5,-80.7153 1000.5,-71.848 1000.5,-63.4814\"/>\r\n",
       "<polygon fill=\"black\" stroke=\"black\" points=\"1004,-63.2367 1000.5,-53.2367 997,-63.2367 1004,-63.2367\"/>\r\n",
       "</g>\r\n",
       "<!-- 14 -->\r\n",
       "<g id=\"node15\" class=\"node\"><title>14</title>\r\n",
       "<polygon fill=\"#e58139\" fill-opacity=\"0.850980\" stroke=\"black\" points=\"1242,-53 1093,-53 1093,-0 1242,-0 1242,-53\"/>\r\n",
       "<text text-anchor=\"middle\" x=\"1167.5\" y=\"-37.8\" font-family=\"Times New Roman,serif\" font-size=\"14.00\">samples = 2275</text>\r\n",
       "<text text-anchor=\"middle\" x=\"1167.5\" y=\"-22.8\" font-family=\"Times New Roman,serif\" font-size=\"14.00\">value = [1979, 296]</text>\r\n",
       "<text text-anchor=\"middle\" x=\"1167.5\" y=\"-7.8\" font-family=\"Times New Roman,serif\" font-size=\"14.00\">class = Jack&#39;s Surprise!</text>\r\n",
       "</g>\r\n",
       "<!-- 12&#45;&gt;14 -->\r\n",
       "<g id=\"edge14\" class=\"edge\"><title>12&#45;&gt;14</title>\r\n",
       "<path fill=\"none\" stroke=\"black\" d=\"M1058.91,-88.9485C1076.61,-78.9318 1095.97,-67.9767 1113.38,-58.1263\"/>\r\n",
       "<polygon fill=\"black\" stroke=\"black\" points=\"1115.3,-61.0577 1122.28,-53.0867 1111.86,-54.9655 1115.3,-61.0577\"/>\r\n",
       "</g>\r\n",
       "</g>\r\n",
       "</svg>\r\n"
      ],
      "text/plain": [
       "<graphviz.files.Source at 0x19a6ba53320>"
      ]
     },
     "execution_count": 13,
     "metadata": {},
     "output_type": "execute_result"
    }
   ],
   "source": [
    "with open(\"tree.dot\") as f:\n",
    "    dot_graph = f.read()\n",
    "graphviz.Source(dot_graph)"
   ]
  },
  {
   "cell_type": "code",
   "execution_count": 14,
   "metadata": {},
   "outputs": [
    {
     "data": {
      "image/png": "[encoded data removed]",
      "text/plain": [
       "<Figure size 432x288 with 1 Axes>"
      ]
     },
     "metadata": {
      "needs_background": "light"
     },
     "output_type": "display_data"
    }
   ],
   "source": [
    "#view the main features\n",
    "def plot_feature_importances_df(model):\n",
    "    n_features = np.count_nonzero(features_dummies.columns)\n",
    "    plt.barh(range(n_features), model.feature_importances_, align='center')\n",
    "    plt.yticks(np.arange(n_features), features_dummies.columns)\n",
    "    plt.xlabel(\"Feature importance\")\n",
    "    plt.ylabel(\"Feature\")\n",
    "plot_feature_importances_df(tree)"
   ]
  },
  {
   "cell_type": "markdown",
   "metadata": {},
   "source": [
    "We can see, the most important atribute is the **event_4**"
   ]
  },
  {
   "cell_type": "markdown",
   "metadata": {},
   "source": [
    "# Attending the non linear distribution"
   ]
  },
  {
   "cell_type": "markdown",
   "metadata": {},
   "source": [
    "Remeber in the Data Analitycs, we found the non normal distribution about the events frecuency, we can now, try apply one trick for solve it"
   ]
  },
  {
   "cell_type": "code",
   "execution_count": 15,
   "metadata": {},
   "outputs": [],
   "source": [
    "df = get_data()"
   ]
  },
  {
   "cell_type": "code",
   "execution_count": 16,
   "metadata": {},
   "outputs": [],
   "source": [
    "features = df[['event_1','event_2','event_3','event_4','event_5']]"
   ]
  },
  {
   "cell_type": "code",
   "execution_count": 17,
   "metadata": {},
   "outputs": [
    {
     "data": {
      "image/png": "[encoded data removed]",
      "text/plain": [
       "<Figure size 432x288 with 6 Axes>"
      ]
     },
     "metadata": {
      "needs_background": "light"
     },
     "output_type": "display_data"
    }
   ],
   "source": [
    "features.hist( bins = 100, color = 'steelblue', edgecolor='black', linewidth = 1.0, xlabelsize = 15, ylabelsize = 15, grid = False);\n",
    "plt.tight_layout(rect = (0, 0, 4, 4))"
   ]
  },
  {
   "cell_type": "code",
   "execution_count": 28,
   "metadata": {},
   "outputs": [],
   "source": [
    "#Trick\n",
    "features_log = np.log(features + 1)"
   ]
  },
  {
   "cell_type": "code",
   "execution_count": 29,
   "metadata": {},
   "outputs": [
    {
     "data": {
      "image/png": "[encoded data removed]",
      "text/plain": [
       "<Figure size 432x288 with 6 Axes>"
      ]
     },
     "metadata": {
      "needs_background": "light"
     },
     "output_type": "display_data"
    }
   ],
   "source": [
    "features_log.hist( bins = 100, color = 'steelblue', edgecolor='black', linewidth = 1.0, xlabelsize = 15, ylabelsize = 15, grid = False);\n",
    "plt.tight_layout(rect = (0, 0, 4, 4))"
   ]
  },
  {
   "cell_type": "code",
   "execution_count": 40,
   "metadata": {},
   "outputs": [],
   "source": [
    "X_log = features_log.values\n",
    "y = df.target_churn_indicator.values"
   ]
  },
  {
   "cell_type": "code",
   "execution_count": 44,
   "metadata": {},
   "outputs": [],
   "source": [
    "X_train_log, X_test_log, y_train, y_test = train_test_split(X_log, y, random_state=1, stratify=y)"
   ]
  },
  {
   "cell_type": "code",
   "execution_count": 45,
   "metadata": {},
   "outputs": [
    {
     "name": "stdout",
     "output_type": "stream",
     "text": [
      "Accuracy on training set: 0.709\n",
      "Accuracy on test set: 0.703\n"
     ]
    }
   ],
   "source": [
    "#Training our Tree-model\n",
    "tree = DecisionTreeClassifier(random_state=0, max_depth=3)\n",
    "tree.fit(X_train, y_train)\n",
    "print(\"Accuracy on training set: {:.3f}\".format(tree.score(X_train_log, y_train)))\n",
    "print(\"Accuracy on test set: {:.3f}\".format(tree.score(X_test_log, y_test)))"
   ]
  },
  {
   "cell_type": "code",
   "execution_count": 46,
   "metadata": {},
   "outputs": [
    {
     "data": {
      "image/png": "[encoded data removed]",
      "text/plain": [
       "<Figure size 432x288 with 1 Axes>"
      ]
     },
     "metadata": {
      "needs_background": "light"
     },
     "output_type": "display_data"
    }
   ],
   "source": [
    "#view the main features\n",
    "def plot_feature_importances_df(model):\n",
    "    n_features = np.count_nonzero(features_log.columns)\n",
    "    plt.barh(range(n_features), model.feature_importances_, align='center')\n",
    "    plt.yticks(np.arange(n_features), features_log.columns)\n",
    "    plt.xlabel(\"Feature importance\")\n",
    "    plt.ylabel(\"Feature\")\n",
    "plot_feature_importances_df(tree)"
   ]
  }
 ],
 "metadata": {
  "kernelspec": {
   "display_name": "Python 3",
   "language": "python",
   "name": "python3"
  },
  "language_info": {
   "codemirror_mode": {
    "name": "ipython",
    "version": 3
   },
   "file_extension": ".py",
   "mimetype": "text/x-python",
   "name": "python",
   "nbconvert_exporter": "python",
   "pygments_lexer": "ipython3",
   "version": "3.7.1"
  }
 },
 "nbformat": 4,
 "nbformat_minor": 2
}
